{
 "cells": [
  {
   "cell_type": "code",
   "execution_count": null,
   "id": "e89f523b",
   "metadata": {},
   "outputs": [],
   "source": [
    "# Change cwd to CodingProjects/lobquant\n",
    "import os\n",
    "os.chdir(\"..\")"
   ]
  },
  {
   "cell_type": "code",
   "execution_count": 5,
   "id": "bef98da0",
   "metadata": {},
   "outputs": [
    {
     "data": {
      "text/plain": [
       "'/Users/florianewald/Documents/CodingProjects/lobquant'"
      ]
     },
     "execution_count": 5,
     "metadata": {},
     "output_type": "execute_result"
    }
   ],
   "source": [
    "os.getcwd()"
   ]
  },
  {
   "cell_type": "code",
   "execution_count": 6,
   "id": "5e9e5cdd",
   "metadata": {},
   "outputs": [],
   "source": [
    "from lobquant.lob import LobData"
   ]
  },
  {
   "cell_type": "code",
   "execution_count": 7,
   "id": "efbbec5f",
   "metadata": {},
   "outputs": [
    {
     "ename": "TypeError",
     "evalue": "LobData.__init__() missing 1 required positional argument: 'data'",
     "output_type": "error",
     "traceback": [
      "\u001b[0;31m---------------------------------------------------------------------------\u001b[0m",
      "\u001b[0;31mTypeError\u001b[0m                                 Traceback (most recent call last)",
      "Cell \u001b[0;32mIn[7], line 1\u001b[0m\n\u001b[0;32m----> 1\u001b[0m \u001b[43mLobData\u001b[49m\u001b[43m(\u001b[49m\u001b[43m)\u001b[49m\n",
      "\u001b[0;31mTypeError\u001b[0m: LobData.__init__() missing 1 required positional argument: 'data'"
     ]
    }
   ],
   "source": [
    "LobData()"
   ]
  },
  {
   "cell_type": "code",
   "execution_count": null,
   "id": "90689fa3",
   "metadata": {},
   "outputs": [],
   "source": []
  }
 ],
 "metadata": {
  "kernelspec": {
   "display_name": "Python 3.10 (tensorflow)",
   "language": "python",
   "name": "tensorflow"
  },
  "language_info": {
   "codemirror_mode": {
    "name": "ipython",
    "version": 3
   },
   "file_extension": ".py",
   "mimetype": "text/x-python",
   "name": "python",
   "nbconvert_exporter": "python",
   "pygments_lexer": "ipython3",
   "version": "3.10.11"
  }
 },
 "nbformat": 4,
 "nbformat_minor": 5
}
